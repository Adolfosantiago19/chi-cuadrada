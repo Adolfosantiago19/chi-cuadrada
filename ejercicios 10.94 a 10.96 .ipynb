{
 "cells": [
  {
   "cell_type": "markdown",
   "id": "3d4a06a6",
   "metadata": {},
   "source": [
    "<h2>Indice de los ejercicios </h2>\n",
    "<a id=\"menu\"></a>\n",
    "<ul>\n",
    "<li><a href=\"#ejercicio10.94\">Ejercicio 10.94</a></li>\n",
    "<li><a href=\"#ejercicio10.95\">Ejercicio 10.95</a></li>\n",
    "<li><a href=\"#ejercicio10.96\">Ejercicio 10.96</a></li>\n",
    "</ul>"
   ]
  },
  {
   "cell_type": "markdown",
   "id": "03cacf7c",
   "metadata": {},
   "source": [
    "<a id=ejercicio10.94></a>\n",
    "<h2>Ejercicio 10.94</h2>"
   ]
  },
  {
   "cell_type": "markdown",
   "id": "c5412993",
   "metadata": {},
   "source": [
    "- Se lleva a cabo una encuesta en Indiana,\n",
    "Kentucky y Ohio para determinar la postura de los votantes\n",
    "respecto al transporte escolar. Un grupo de 200\n",
    "votantes de cada uno de estos estados."
   ]
  },
  {
   "cell_type": "code",
   "execution_count": 38,
   "id": "4aac37a5",
   "metadata": {},
   "outputs": [
    {
     "name": "stdout",
     "output_type": "stream",
     "text": [
      "Tabla de contingencia:\n",
      "Estado    Indiana  Kentucky  Ohio\n",
      "Apoya          82       107    93\n",
      "No apoya       97        66    74\n",
      "Indeciso       21        27    33\n",
      "\n",
      "Resultados de la prueba de chi-cuadrado:\n",
      "Chi-cuadrado: 12.564054223898015\n",
      "P-valor: 0.013614527755573072\n",
      "Grados de libertad: 4\n",
      "Frecuencias esperadas:\n",
      "[[94. 94. 94.]\n",
      " [79. 79. 79.]\n",
      " [27. 27. 27.]]\n",
      "\n",
      "Se rechaza la hipótesis nula: hay una relación significativa entre los estados y la postura del votante.\n"
     ]
    }
   ],
   "source": [
    "import pandas as pd\n",
    "import scipy.stats as stats\n",
    "\n",
    "# Crear un DataFrame con los datos\n",
    "data = {\n",
    "    'Estado': ['Indiana', 'Kentucky', 'Ohio'],\n",
    "    'Apoya': [82, 107, 93],\n",
    "    'No apoya': [97, 66, 74],\n",
    "    'Indeciso': [21, 27, 33]\n",
    "}\n",
    "df = pd.DataFrame(data)\n",
    "# Convertir los datos en una tabla de contingencia\n",
    "contingencia = df[['Apoya', 'No apoya', 'Indeciso']].T\n",
    "contingencia.columns = df['Estado']\n",
    "print(\"Tabla de contingencia:\")\n",
    "print(contingencia)\n",
    "# Realizar la prueba de chi-cuadrado\n",
    "chi2, p, dof, expected = stats.chi2_contingency(contingencia)\n",
    "# Mostrar los resultados\n",
    "print(\"\\nResultados de la prueba de chi-cuadrado:\")\n",
    "print(f\"Chi-cuadrado: {chi2}\")\n",
    "print(f\"P-valor: {p}\")\n",
    "print(f\"Grados de libertad: {dof}\")\n",
    "print(\"Frecuencias esperadas:\")\n",
    "print(expected)\n",
    "# Interpretar el p-valor\n",
    "alpha = 0.05\n",
    "if p < alpha:\n",
    "    print(\"\\nSe rechaza la hipótesis nula: hay una relación significativa entre los estados y la postura del votante.\")\n",
    "else:\n",
    "    print(\"\\nNo se rechaza la hipótesis nula: no hay una relación significativa entre los estados y la postura del votante.\")"
   ]
  },
  {
   "cell_type": "markdown",
   "id": "c4c4bd4e",
   "metadata": {},
   "source": [
    "<div style=\"display: flex; justify-content: space-between; margin: 20px 0;\"> <a href=\"#ejercicio10.94\" >← Anterior </a>\n",
    "</div> \n",
    "\n",
    "<div style=\"display: flex; justify-content: space-between; margin: 20px 0;\"> <a href=\"#ejercicio10.95\" >Siguiente →</a>\n",
    "</div> "
   ]
  },
  {
   "cell_type": "markdown",
   "id": "2a2ebf48",
   "metadata": {},
   "source": [
    "<a id=ejercicio10.95></a>\n",
    "<h2>Ejercicio 10.95</h2>"
   ]
  },
  {
   "cell_type": "markdown",
   "id": "08e1303e",
   "metadata": {},
   "source": [
    "- Se lleva a cabo una investigación en dos ciudades de Virginia para determinar la opinión de los votantes respecto a dos candidatos a la gubernatura en una\n",
    "elección próxima.\n",
    "\n",
    "- A un nivel de significancia de 0.05 pruebe la hipótesis\n",
    "nula de que las proporciones de votantes que están a favor del candidato A, a favor del candidato B o que están\n",
    "indecisos son las mismas para cada ciudad."
   ]
  },
  {
   "cell_type": "code",
   "execution_count": 39,
   "id": "fd2c58fd",
   "metadata": {},
   "outputs": [
    {
     "name": "stdout",
     "output_type": "stream",
     "text": [
      "Tabla de contingencia:\n",
      "Ciudad        Richmond  Norfolk\n",
      "A favor de A       204      229\n",
      "A favor de B       211      198\n",
      "Indeciso            85       73\n",
      "\n",
      "Resultados de la prueba de chi-cuadrado:\n",
      "Chi-cuadrado: 2.7680133529054336\n",
      "P-valor: 0.2505725758535793\n",
      "Grados de libertad: 2\n",
      "Frecuencias esperadas:\n",
      "[[216.5 216.5]\n",
      " [204.5 204.5]\n",
      " [ 79.   79. ]]\n",
      "\n",
      "No se rechaza la hipótesis nula: no hay una relación significativa entre la ciudad y la opinión del votante.\n"
     ]
    }
   ],
   "source": [
    "import pandas as pd\n",
    "import scipy.stats as stats\n",
    "\n",
    "# Crear un DataFrame con los datos\n",
    "data = {\n",
    "    'Ciudad': ['Richmond', 'Norfolk'],\n",
    "    'A favor de A': [204, 229],\n",
    "    'A favor de B': [211, 198],\n",
    "    'Indeciso': [85, 73]  # Suponiendo que los indecisos son los restantes\n",
    "}\n",
    "df = pd.DataFrame(data)\n",
    "# Convertir los datos en una tabla de contingencia\n",
    "contingencia = df[['A favor de A', 'A favor de B', 'Indeciso']].T\n",
    "contingencia.columns = df['Ciudad']\n",
    "print(\"Tabla de contingencia:\")\n",
    "print(contingencia)\n",
    "# Realizar la prueba de chi-cuadrado\n",
    "chi2, p, dof, expected = stats.chi2_contingency(contingencia)\n",
    "# Mostrar los resultados\n",
    "print(\"\\nResultados de la prueba de chi-cuadrado:\")\n",
    "print(f\"Chi-cuadrado: {chi2}\")\n",
    "print(f\"P-valor: {p}\")\n",
    "print(f\"Grados de libertad: {dof}\")\n",
    "print(\"Frecuencias esperadas:\")\n",
    "print(expected)\n",
    "# Interpretar el p-valor\n",
    "alpha = 0.05\n",
    "if p < alpha:\n",
    "    print(\"\\nSe rechaza la hipótesis nula: hay una relación significativa entre la ciudad y la opinión del votante.\")\n",
    "else:\n",
    "    print(\"\\nNo se rechaza la hipótesis nula: no hay una relación significativa entre la ciudad y la opinión del votante.\")"
   ]
  },
  {
   "cell_type": "markdown",
   "id": "02f16d4a",
   "metadata": {},
   "source": [
    "<div style=\"display: flex; justify-content: space-between; margin: 20px 0;\"> <a href=\"#ejercicio10.95\" >← Anterior </a>\n",
    "</div> \n",
    "\n",
    "<div style=\"display: flex; justify-content: space-between; margin: 20px 0;\"> <a href=\"#ejercicio10.96\" >Siguiente →</a>\n",
    "</div> "
   ]
  },
  {
   "cell_type": "markdown",
   "id": "84033558",
   "metadata": {},
   "source": [
    "<a id=ejercicio10.96></a>\n",
    "<h2>Ejercicio 10.96</h2>"
   ]
  },
  {
   "cell_type": "markdown",
   "id": "19fab588",
   "metadata": {},
   "source": [
    "En un estudio para estimar la proporción de\n",
    "esposas que de manera regular ven telenovelas se encuentra que 52 de 200 esposas en Denver 31 de 150 en Phoenix y 37 de 150 en Rochester ven al menos una telenovela. Utilice un nivel de significancia de 0.05 para probar la hipótesis de que no hay diferencia entre las proporciones verdaderas de esposas que ven telenovelas en esas tres ciudades funcionario actual para la próxima elección es de 0.58.\n",
    "\n",
    "- El filete ribeye promedio en el restaurante Longhorn Steak pesa al menos 340 gramos."
   ]
  },
  {
   "cell_type": "code",
   "execution_count": 40,
   "id": "930fe254",
   "metadata": {},
   "outputs": [
    {
     "name": "stdout",
     "output_type": "stream",
     "text": [
      "Tabla de contingencia:\n",
      "Ciudad              Denver  Phoenix  Rochester\n",
      "Ven Telenovelas         52       31         37\n",
      "No Ven Telenovelas     148      119        113\n",
      "\n",
      "Resultados de la prueba de chi-cuadrado:\n",
      "Chi-cuadrado: 1.3888888888888886\n",
      "P-valor: 0.4993517885992763\n",
      "Grados de libertad: 2\n",
      "Frecuencias esperadas:\n",
      "[[ 48.  36.  36.]\n",
      " [152. 114. 114.]]\n",
      "\n",
      "No se rechaza la hipótesis nula: no hay diferencia significativa entre las proporciones.\n"
     ]
    }
   ],
   "source": [
    "import pandas as pd\n",
    "import scipy.stats as stats\n",
    "\n",
    "# Datos\n",
    "ciudades = ['Denver', 'Phoenix', 'Rochester']\n",
    "total_esposas = [200, 150, 150]\n",
    "ven_telenovelas = [52, 31, 37]\n",
    "\n",
    "# Crear un DataFrame\n",
    "df = pd.DataFrame({\n",
    "    'Ciudad': ciudades,\n",
    "    'Total': total_esposas,\n",
    "    'Ven Telenovelas': ven_telenovelas,\n",
    "    'No Ven Telenovelas': [total - ven for total, ven in zip(total_esposas, ven_telenovelas)]})\n",
    "\n",
    "# Convertir los datos en una tabla de contingencia\n",
    "contingencia = df[['Ven Telenovelas', 'No Ven Telenovelas']].T\n",
    "contingencia.columns = df['Ciudad']\n",
    "print(\"Tabla de contingencia:\")\n",
    "print(contingencia)\n",
    "\n",
    "# Realizar la prueba de chi-cuadrado\n",
    "chi2, p, dof, expected = stats.chi2_contingency(contingencia)\n",
    "\n",
    "# Mostrar los resultados\n",
    "print(\"\\nResultados de la prueba de chi-cuadrado:\")\n",
    "print(f\"Chi-cuadrado: {chi2}\")\n",
    "print(f\"P-valor: {p}\")\n",
    "print(f\"Grados de libertad: {dof}\")\n",
    "print(\"Frecuencias esperadas:\")\n",
    "print(expected)\n",
    "\n",
    "# Interpretar el p-valor\n",
    "alpha = 0.05\n",
    "if p < alpha:\n",
    "    print(\"\\nSe rechaza la hipótesis nula: hay una diferencia significativa entre las proporciones.\")\n",
    "else:\n",
    "    print(\"\\nNo se rechaza la hipótesis nula: no hay diferencia significativa entre las proporciones.\")"
   ]
  },
  {
   "cell_type": "markdown",
   "id": "421980bd",
   "metadata": {},
   "source": [
    "<div style=\"display: flex; justify-content: space-between; margin: 20px 0;\"> <a href=\"#ejercicio10.95\">← Anterior </a>\n",
    "</div> "
   ]
  }
 ],
 "metadata": {
  "kernelspec": {
   "display_name": "Python 3",
   "language": "python",
   "name": "python3"
  },
  "language_info": {
   "codemirror_mode": {
    "name": "ipython",
    "version": 3
   },
   "file_extension": ".py",
   "mimetype": "text/x-python",
   "name": "python",
   "nbconvert_exporter": "python",
   "pygments_lexer": "ipython3",
   "version": "3.12.6"
  }
 },
 "nbformat": 4,
 "nbformat_minor": 5
}
