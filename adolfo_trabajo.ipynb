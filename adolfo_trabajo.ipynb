{
 "cells": [
  {
   "cell_type": "markdown",
   "id": "ebcea7ae",
   "metadata": {},
   "source": [
    "# [Menu](#Menú)\n",
    "\n",
    "* [Ejercicio 1](#Ejercicio.1)\n",
    "* [Ejercicio 2](#Ejercicio.2)\n",
    "* [Ejercicio 3](#Ejercicio.3)"
   ]
  },
  {
   "cell_type": "markdown",
   "id": "f7b7fa5b",
   "metadata": {},
   "source": [
    "### Ejercicio.1\n",
    "### [Menú](#Menu) | [siguiente](#Ejercicio.2)"
   ]
  },
  {
   "cell_type": "markdown",
   "id": "f80b1fac",
   "metadata": {},
   "source": [
    "Un criminólogo realizó una investigación para determinar si la incidencia de ciertos tipos de delitos varía de una parte de una gran ciudad a otra. Los crímenes específicos de interés eran el asalto, el robo de casas, el hurto y el homicidio. La siguiente tabla muestra el número de delitos cometidos en cuatro áreas de la ciudad durante un año.\n",
    "\n",
    "¿A partir de estos datos podemos concluir, a un nivel de significancia de 0.01, que la ocurrencia de estos tipos de delitos depende del distrito de la ciudad?"
   ]
  },
  {
   "cell_type": "code",
   "execution_count": 3,
   "id": "359592f7",
   "metadata": {},
   "outputs": [
    {
     "name": "stdout",
     "output_type": "stream",
     "text": [
      "  Tipo de crimen  Distrito 1  Distrito 2  Distrito 3  Distrito 4\n",
      "0         Asalto         162         118         451          18\n",
      "1  Robo de casas         310         196         996          25\n",
      "2          Hurto         258         193         458          10\n",
      "3      Homicidio         280         175         390          19\n"
     ]
    }
   ],
   "source": [
    "import pandas as pd\n",
    "\n",
    "# Datos de la tabla\n",
    "data = {\n",
    "    'Tipo de crimen': ['Asalto', 'Robo de casas', 'Hurto', 'Homicidio'],\n",
    "    'Distrito 1': [162, 310, 258, 280],\n",
    "    'Distrito 2': [118, 196, 193, 175],\n",
    "    'Distrito 3': [451, 996, 458, 390],\n",
    "    'Distrito 4': [18, 25, 10, 19]\n",
    "}\n",
    "\n",
    "# Crear un DataFrame\n",
    "df = pd.DataFrame(data)\n",
    "\n",
    "# Mostrar la tabla\n",
    "print(df)"
   ]
  },
  {
   "cell_type": "code",
   "execution_count": 1,
   "id": "8ca701e6",
   "metadata": {},
   "outputs": [
    {
     "name": "stdout",
     "output_type": "stream",
     "text": [
      "Estadístico Chi-cuadrado: 124.5297\n",
      "P-valor: 0.0000\n",
      "Grados de libertad: 9\n",
      "Frecuencias esperadas:\n",
      "[[186.37 125.85 423.49  13.29]\n",
      " [379.96 256.57 863.38  27.09]\n",
      " [228.67 154.41 519.61  16.3 ]\n",
      " [214.99 145.17 488.51  15.33]]\n",
      "Rechazamos la hipótesis nula: la ocurrencia de delitos depende del distrito.\n"
     ]
    }
   ],
   "source": [
    "import numpy as np\n",
    "import pandas as pd\n",
    "from scipy.stats import chi2_contingency\n",
    "\n",
    "# Datos de la tabla\n",
    "data = {\n",
    "    'Asalto': [162, 310, 258, 280],\n",
    "    'Robo de casas': [118, 196, 193, 175],\n",
    "    'Hurto': [451, 996, 458, 390],\n",
    "    'Homicidio': [18, 25, 10, 19]\n",
    "}\n",
    "\n",
    "# Crear un DataFrame\n",
    "df = pd.DataFrame(data, index=['Distrito 1', 'Distrito 2', 'Distrito 3', 'Distrito 4'])\n",
    "\n",
    "# Realizar la prueba Chi-cuadrado\n",
    "chi2, p, dof, expected = chi2_contingency(df)\n",
    "\n",
    "# Resultados\n",
    "print(f\"Estadístico Chi-cuadrado: {chi2:.4f}\")\n",
    "print(f\"P-valor: {p:.4f}\")\n",
    "print(f\"Grados de libertad: {dof}\")\n",
    "print(\"Frecuencias esperadas:\")\n",
    "print(np.round(expected, 2))\n",
    "\n",
    "# Nivel de significancia\n",
    "alpha = 0.01\n",
    "\n",
    "# Conclusión\n",
    "if p < alpha:\n",
    "    print(\"Rechazamos la hipótesis nula: la ocurrencia de delitos depende del distrito.\")\n",
    "else:\n",
    "    print(\"No rechazamos la hipótesis nula: la ocurrencia de delitos no depende del distrito.\")\n"
   ]
  },
  {
   "cell_type": "markdown",
   "id": "911579c9",
   "metadata": {},
   "source": [
    "### Ejercicio.2\n",
    "### [Anterior](#Ejercicio.1) | [Menú](#Menu) | [siguiente](#Ejercicio.3)"
   ]
  },
  {
   "cell_type": "markdown",
   "id": "04d81df7",
   "metadata": {},
   "source": [
    "10.90 De acuerdo con un estudio de la Universidad Johns Hopkins, publicado en American Journal of Public Health, las viudas viven más que los viudos. Considera los siguientes datos reunidos de supervivencia de 100 viudas y 100 viudos después de la muerte del cónyuge:\n",
    "\n",
    "Con un nivel de significancia de 0.05, ¿podemos concluir que las proporciones de viudas y viudos son iguales con respecto a los diferentes períodos que un cónyuge sobrevive luego de la muerte de su compañero?"
   ]
  },
  {
   "cell_type": "code",
   "execution_count": 6,
   "id": "a06d9e65",
   "metadata": {},
   "outputs": [
    {
     "name": "stdout",
     "output_type": "stream",
     "text": [
      "  Años vividos  Viuda  Viudo\n",
      "0   Menos de 5     25     39\n",
      "1    De 5 a 10     42     40\n",
      "2    Más de 10     33     21\n"
     ]
    }
   ],
   "source": [
    "import pandas as pd\n",
    "\n",
    "# Datos de la tabla\n",
    "datos = {\n",
    "    'Años vividos': ['Menos de 5', 'De 5 a 10', 'Más de 10'],\n",
    "    'Viuda': [25, 42, 33],\n",
    "    'Viudo': [39, 40, 21]\n",
    "}\n",
    "\n",
    "# Crear un DataFrame\n",
    "df = pd.DataFrame(datos)\n",
    "\n",
    "# Mostrar la tabla\n",
    "print(df)\n"
   ]
  },
  {
   "cell_type": "code",
   "execution_count": 12,
   "id": "636067d6",
   "metadata": {},
   "outputs": [
    {
     "name": "stdout",
     "output_type": "stream",
     "text": [
      "\n",
      "Resultados de la prueba de chi-cuadrado para 10.90:\n",
      "Estadístico Chi-cuadrado: 6.7341\n",
      "Valor p: 0.0345\n",
      "Grados de libertad: 2\n",
      "Valores esperados: \n",
      "[[29.64210526 34.35789474]\n",
      " [33.34736842 38.65263158]\n",
      " [25.01052632 28.98947368]]\n",
      "\n",
      "Se rechaza la hipótesis nula. Hay una diferencia significativa entre las proporciones de viudas y viudos.\n"
     ]
    }
   ],
   "source": [
    "import numpy as np\n",
    "import pandas as pd\n",
    "from scipy.stats import chi2_contingency\n",
    "\n",
    "# Datos\n",
    "data_10_90 = np.array([[25, 39], \n",
    "                       [30, 42], \n",
    "                       [33, 21]])\n",
    "\n",
    "# Crear DataFrame\n",
    "df_10_90 = pd.DataFrame(data_10_90, columns=['Viuda', 'Viudo'], \n",
    "                        index=['Menos de 5 años', '5 a 10 años', 'Más de 10 años'])\n",
    "\n",
    "# Prueba de chi-cuadrado\n",
    "chi2_90, p_90, dof_90, expected_90 = chi2_contingency(data_10_90)\n",
    "\n",
    "# Resultados\n",
    "alpha = 0.05\n",
    "print(\"\\nResultados de la prueba de chi-cuadrado para 10.90:\")\n",
    "print(f\"Estadístico Chi-cuadrado: {chi2_90:.4f}\")\n",
    "print(f\"Valor p: {p_90:.4f}\")\n",
    "print(f\"Grados de libertad: {dof_90}\")\n",
    "print(f\"Valores esperados: \\n{expected_90}\")\n",
    "\n",
    "# Conclusión\n",
    "if p_90 < alpha:\n",
    "    print(\"\\nSe rechaza la hipótesis nula. Hay una diferencia significativa entre las proporciones de viudas y viudos.\")\n",
    "else:\n",
    "    print(\"\\nNo se puede rechazar la hipótesis nula. No hay una diferencia significativa entre las proporciones de viudas y viudos.\")\n"
   ]
  },
  {
   "cell_type": "markdown",
   "id": "bbe09bc9",
   "metadata": {},
   "source": [
    "### Ejercicio.3\n",
    "### [Anterior](#Ejercicio.2) | [Menú](#Menu) | [siguiente](#Ejercicio.3)"
   ]
  },
  {
   "cell_type": "markdown",
   "id": "ec5a8b43",
   "metadata": {},
   "source": [
    "10.91 Las siguientes respuestas respecto al nivel de vida en el momento en que se aplicó una encuesta de opinión independiente a 1000 familias, comparadas con sus respuestas sobre su nivel de vida del año anterior, parecen coincidir con los resultados de un estudio publicado en Across the Board (junio de 1981):\n",
    "\n",
    "Pruebe la hipótesis de que las proporciones de familias dentro de cada nivel de vida son iguales para cada uno de los cuatro periodos. Utilice un valor P."
   ]
  },
  {
   "cell_type": "code",
   "execution_count": 13,
   "id": "67ab373b",
   "metadata": {},
   "outputs": [
    {
     "name": "stdout",
     "output_type": "stream",
     "text": [
      "Tabla de resultados de la encuesta:\n",
      "           Un poco mejor  Igual  No tan bueno  Total\n",
      "Periodo                                             \n",
      "1980-Enc              72    144            84    300\n",
      "1980-May              63    135           102    300\n",
      "1980-Sept             47    100            53    200\n",
      "1981-Enc              40    105            55    200\n"
     ]
    }
   ],
   "source": [
    "import pandas as pd\n",
    "\n",
    "# Crear la tabla de datos\n",
    "data = {\n",
    "    'Periodo': ['1980-Enc', '1980-May', '1980-Sept', '1981-Enc'],\n",
    "    'Un poco mejor': [72, 63, 47, 40],\n",
    "    'Igual': [144, 135, 100, 105],\n",
    "    'No tan bueno': [84, 102, 53, 55],\n",
    "    'Total': [300, 300, 200, 200]\n",
    "}\n",
    "\n",
    "# Crear el DataFrame\n",
    "df = pd.DataFrame(data).set_index('Periodo')\n",
    "\n",
    "# Mostrar la tabla\n",
    "print(\"Tabla de resultados de la encuesta:\")\n",
    "print(df)"
   ]
  },
  {
   "cell_type": "code",
   "execution_count": 14,
   "id": "0cf82795",
   "metadata": {},
   "outputs": [
    {
     "name": "stdout",
     "output_type": "stream",
     "text": [
      "\n",
      "Resultados de la prueba de chi-cuadrado para 10.91:\n",
      "Estadístico Chi-cuadrado: 9.4081\n",
      "Valor p: 0.1519\n",
      "Grados de libertad: 6\n",
      "Valores esperados: \n",
      "[[ 71.42254812 155.71402383 123.86342805]\n",
      " [ 64.7076077  141.07424381 112.21814849]\n",
      " [ 45.17323556  98.48579285  78.34097159]\n",
      " [ 40.69660862  88.72593951  70.57745188]]\n",
      "\n",
      "No se puede rechazar la hipótesis nula. No hay una diferencia significativa entre las proporciones de familias en los diferentes niveles de vida.\n"
     ]
    }
   ],
   "source": [
    "import numpy as np\n",
    "import pandas as pd\n",
    "from scipy.stats import chi2_contingency\n",
    "\n",
    "# Datos\n",
    "data_10_91 = np.array([[72, 144, 135],  \n",
    "                       [63, 135, 120],  \n",
    "                       [47, 100, 75],   \n",
    "                       [40, 105, 55]])  \n",
    "\n",
    "# Crear DataFrame\n",
    "df_10_91 = pd.DataFrame(data_10_91, columns=['Mejor', 'Igual', 'No tan bueno'], \n",
    "                        index=['1980 Ene.', '1980 May.', '1980 Sept.', '1981 Ene.'])\n",
    "\n",
    "# Prueba de chi-cuadrado\n",
    "chi2_91, p_91, dof_91, expected_91 = chi2_contingency(data_10_91)\n",
    "\n",
    "# Resultados\n",
    "alpha = 0.05\n",
    "print(\"\\nResultados de la prueba de chi-cuadrado para 10.91:\")\n",
    "print(f\"Estadístico Chi-cuadrado: {chi2_91:.4f}\")\n",
    "print(f\"Valor p: {p_91:.4f}\")\n",
    "print(f\"Grados de libertad: {dof_91}\")\n",
    "print(f\"Valores esperados: \\n{expected_91}\")\n",
    "\n",
    "# Conclusión\n",
    "if p_91 < alpha:\n",
    "    print(\"\\nSe rechaza la hipótesis nula. Hay una diferencia significativa entre las proporciones de familias en los diferentes niveles de vida.\")\n",
    "else:\n",
    "    print(\"\\nNo se puede rechazar la hipótesis nula. No hay una diferencia significativa entre las proporciones de familias en los diferentes niveles de vida.\")\n"
   ]
  },
  {
   "cell_type": "code",
   "execution_count": null,
   "id": "d91ce0ec",
   "metadata": {},
   "outputs": [],
   "source": []
  }
 ],
 "metadata": {
  "kernelspec": {
   "display_name": "Python 3",
   "language": "python",
   "name": "python3"
  },
  "language_info": {
   "codemirror_mode": {
    "name": "ipython",
    "version": 3
   },
   "file_extension": ".py",
   "mimetype": "text/x-python",
   "name": "python",
   "nbconvert_exporter": "python",
   "pygments_lexer": "ipython3",
   "version": "3.12.6"
  }
 },
 "nbformat": 4,
 "nbformat_minor": 5
}
