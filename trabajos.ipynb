{
 "cells": [
  {
   "cell_type": "markdown",
   "id": "a767bda4",
   "metadata": {},
   "source": [
    "# [Menu](Menú)\n",
    "\n",
    "* [EJEMPLO 1](#EJEMPLO.1)\n",
    "* [EJEMPLO 2](#EJEMPLO.2)\n",
    "* [EJEMPLO 3](#EJEMPLO.3)\n",
    "* [EJEMPLO 4](#EJEMPLO.4)\n",
    "* [EJEMPLO 5](#EJEMPLO.5)\n",
    "* [EJEMPLO 6](#EJEMPLO.6)\n",
    "* [EJEMPLO 7](#EJEMPLO.7)\n",
    "* [EJEMPLO 8](#EJEMPLO.8)\n",
    "* [EJEMPLO 9](#EJEMPLO.9)\n"
   ]
  }
 ],
 "metadata": {
  "language_info": {
   "name": "python"
  }
 },
 "nbformat": 4,
 "nbformat_minor": 5
}
