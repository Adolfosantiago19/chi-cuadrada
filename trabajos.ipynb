{
 "cells": [
  {
   "cell_type": "markdown",
   "id": "a767bda4",
   "metadata": {},
   "source": [
    "# [Menu](Menú)\n",
    "\n",
    "* [EJEMPLO 1](#EJEMPLO.1)\n",
    "* [EJEMPLO 2](#EJEMPLO.2)\n",
    "* [EJEMPLO 3](#EJEMPLO.3)\n",
    "* [EJEMPLO 4](#EJEMPLO.4)\n",
    "* [EJEMPLO 5](#EJEMPLO.5)\n",
    "* [EJEMPLO 6](#EJEMPLO.6)\n",
    "* [EJEMPLO 7](#EJEMPLO.7)\n",
    "* [EJEMPLO 8](#EJEMPLO.8)\n",
    "* [EJEMPLO 9](#EJEMPLO.9)\n"
   ]
  },
  {
   "cell_type": "markdown",
   "id": "1041244b",
   "metadata": {},
   "source": [
    " ### Ejemplo1\n",
    " ### [Menú](#Menu) | [siguiente](#Ejemplo.2)"
   ]
  },
  {
   "cell_type": "markdown",
   "id": "4f54b0aa",
   "metadata": {},
   "source": [
    "Un criminólogo realizó una investigación para determinar si la incidencia de ciertos tipos de delitos varía de una parte de una gran ciudad a otra. Los crímenes específicos de interés eran el asalto, el robo de casas, el hurto y el homicidio. La siguiente tabla muestra el número de delitos cometidos en cuatro áreas de la ciudad durante un año.\n",
    "\n",
    "¿A partir de estos datos podemos concluir, a un nivel de significancia de 0.01, que la ocurrencia de estos tipos de delitos depende del distrito de la ciudad?"
   ]
  },
  {
   "cell_type": "code",
   "execution_count": 1,
   "id": "3d16c1e9",
   "metadata": {},
   "outputs": [
    {
     "name": "stdout",
     "output_type": "stream",
     "text": [
      "  Tipo de crimen  Distrito 1  Distrito 2  Distrito 3  Distrito 4\n",
      "0         Asalto         162         118         451          18\n",
      "1  Robo de casas         310         196         996          25\n",
      "2          Hurto         258         193         458          10\n",
      "3      Homicidio         280         175         390          19\n"
     ]
    }
   ],
   "source": [
    "import pandas as pd\n",
    "\n",
    "# Datos de la tabla\n",
    "data = {\n",
    "    'Tipo de crimen': ['Asalto', 'Robo de casas', 'Hurto', 'Homicidio'],\n",
    "    'Distrito 1': [162, 310, 258, 280],\n",
    "    'Distrito 2': [118, 196, 193, 175],\n",
    "    'Distrito 3': [451, 996, 458, 390],\n",
    "    'Distrito 4': [18, 25, 10, 19]\n",
    "}\n",
    "\n",
    "# Crear un DataFrame\n",
    "df = pd.DataFrame(data)\n",
    "\n",
    "# Mostrar la tabla\n",
    "print(df)"
   ]
  },
  {
   "cell_type": "code",
   "execution_count": 2,
   "id": "32746c17",
   "metadata": {},
   "outputs": [
    {
     "name": "stdout",
     "output_type": "stream",
     "text": [
      "Estadístico Chi-cuadrado: 124.5297\n",
      "P-valor: 0.0000\n",
      "Grados de libertad: 9\n",
      "Frecuencias esperadas:\n",
      "[[186.37 125.85 423.49  13.29]\n",
      " [379.96 256.57 863.38  27.09]\n",
      " [228.67 154.41 519.61  16.3 ]\n",
      " [214.99 145.17 488.51  15.33]]\n",
      "Rechazamos la hipótesis nula: la ocurrencia de delitos depende del distrito.\n"
     ]
    }
   ],
   "source": [
    "import numpy as np\n",
    "import pandas as pd\n",
    "from scipy.stats import chi2_contingency\n",
    "\n",
    "# Datos de la tabla\n",
    "data = {\n",
    "    'Asalto': [162, 310, 258, 280],\n",
    "    'Robo de casas': [118, 196, 193, 175],\n",
    "    'Hurto': [451, 996, 458, 390],\n",
    "    'Homicidio': [18, 25, 10, 19]\n",
    "}\n",
    "\n",
    "# Crear un DataFrame\n",
    "df = pd.DataFrame(data, index=['Distrito 1', 'Distrito 2', 'Distrito 3', 'Distrito 4'])\n",
    "\n",
    "# Realizar la prueba Chi-cuadrado\n",
    "chi2, p, dof, expected = chi2_contingency(df)\n",
    "\n",
    "# Resultados\n",
    "print(f\"Estadístico Chi-cuadrado: {chi2:.4f}\")\n",
    "print(f\"P-valor: {p:.4f}\")\n",
    "print(f\"Grados de libertad: {dof}\")\n",
    "print(\"Frecuencias esperadas:\")\n",
    "print(np.round(expected, 2))\n",
    "\n",
    "# Nivel de significancia\n",
    "alpha = 0.01\n",
    "\n",
    "# Conclusión\n",
    "if p < alpha:\n",
    "    print(\"Rechazamos la hipótesis nula: la ocurrencia de delitos depende del distrito.\")\n",
    "else:\n",
    "    print(\"No rechazamos la hipótesis nula: la ocurrencia de delitos no depende del distrito.\")"
   ]
  },
  {
   "cell_type": "markdown",
   "id": "9439e7d2",
   "metadata": {},
   "source": [
    " ### Ejemplo 2\n",
    " ### [Anterior](#Ejemplo.1) | [Menú](#Menu) | [siguiente](#Ejemplo.3)"
   ]
  },
  {
   "cell_type": "markdown",
   "id": "3fc2db23",
   "metadata": {},
   "source": [
    "10.90 De acuerdo con un estudio de la Universidad Johns Hopkins, publicado en American Journal of Public Health, las viudas viven más que los viudos. Considera los siguientes datos reunidos de supervivencia de 100 viudas y 100 viudos después de la muerte del cónyuge:\n",
    "\n",
    "Con un nivel de significancia de 0.05, ¿podemos concluir que las proporciones de viudas y viudos son iguales con respecto a los diferentes períodos que un cónyuge sobrevive luego de la muerte de su compañero?"
   ]
  },
  {
   "cell_type": "code",
   "execution_count": 3,
   "id": "eecececf",
   "metadata": {},
   "outputs": [
    {
     "name": "stdout",
     "output_type": "stream",
     "text": [
      "  Años vividos  Viuda  Viudo\n",
      "0   Menos de 5     25     39\n",
      "1    De 5 a 10     42     40\n",
      "2    Más de 10     33     21\n"
     ]
    }
   ],
   "source": [
    "import pandas as pd\n",
    "\n",
    "# Datos de la tabla\n",
    "datos = {\n",
    "    'Años vividos': ['Menos de 5', 'De 5 a 10', 'Más de 10'],\n",
    "    'Viuda': [25, 42, 33],\n",
    "    'Viudo': [39, 40, 21]\n",
    "}\n",
    "\n",
    "# Crear un DataFrame\n",
    "df = pd.DataFrame(datos)\n",
    "\n",
    "# Mostrar la tabla\n",
    "print(df)"
   ]
  },
  {
   "cell_type": "code",
   "execution_count": 4,
   "id": "c3cc1d8f",
   "metadata": {},
   "outputs": [
    {
     "name": "stdout",
     "output_type": "stream",
     "text": [
      "\n",
      "Resultados de la prueba de chi-cuadrado para 10.90:\n",
      "Estadístico Chi-cuadrado: 6.7341\n",
      "Valor p: 0.0345\n",
      "Grados de libertad: 2\n",
      "Valores esperados: \n",
      "[[29.64210526 34.35789474]\n",
      " [33.34736842 38.65263158]\n",
      " [25.01052632 28.98947368]]\n",
      "\n",
      "Se rechaza la hipótesis nula. Hay una diferencia significativa entre las proporciones de viudas y viudos.\n"
     ]
    }
   ],
   "source": [
    "import numpy as np\n",
    "import pandas as pd\n",
    "from scipy.stats import chi2_contingency\n",
    "\n",
    "# Datos\n",
    "data_10_90 = np.array([[25, 39], \n",
    "                       [30, 42], \n",
    "                       [33, 21]])\n",
    "\n",
    "# Crear DataFrame\n",
    "df_10_90 = pd.DataFrame(data_10_90, columns=['Viuda', 'Viudo'], \n",
    "                        index=['Menos de 5 años', '5 a 10 años', 'Más de 10 años'])\n",
    "\n",
    "# Prueba de chi-cuadrado\n",
    "chi2_90, p_90, dof_90, expected_90 = chi2_contingency(data_10_90)\n",
    "\n",
    "# Resultados\n",
    "alpha = 0.05\n",
    "print(\"\\nResultados de la prueba de chi-cuadrado para 10.90:\")\n",
    "print(f\"Estadístico Chi-cuadrado: {chi2_90:.4f}\")\n",
    "print(f\"Valor p: {p_90:.4f}\")\n",
    "print(f\"Grados de libertad: {dof_90}\")\n",
    "print(f\"Valores esperados: \\n{expected_90}\")\n",
    "\n",
    "# Conclusión\n",
    "if p_90 < alpha:\n",
    "    print(\"\\nSe rechaza la hipótesis nula. Hay una diferencia significativa entre las proporciones de viudas y viudos.\")\n",
    "else:\n",
    "    print(\"\\nNo se puede rechazar la hipótesis nula. No hay una diferencia significativa entre las proporciones de viudas y viudos.\")"
   ]
  },
  {
   "cell_type": "markdown",
   "id": "d076b7bc",
   "metadata": {},
   "source": [
    " ### Ejemplo 3\n",
    " ### [Anterior](#Ejemplo.2) | [Menú](#Menu) | [siguiente](#Ejemplo.4)"
   ]
  },
  {
   "cell_type": "markdown",
   "id": "ce66823a",
   "metadata": {},
   "source": [
    "10.91 Las siguientes respuestas respecto al nivel de vida en el momento en que se aplicó una encuesta de opinión independiente a 1000 familias, comparadas con sus respuestas sobre su nivel de vida del año anterior, parecen coincidir con los resultados de un estudio publicado en Across the Board (junio de 1981):\n",
    "\n",
    "Pruebe la hipótesis de que las proporciones de familias dentro de cada nivel de vida son iguales para cada uno de los cuatro periodos. Utilice un valor P."
   ]
  },
  {
   "cell_type": "code",
   "execution_count": 8,
   "id": "498c7d0c",
   "metadata": {},
   "outputs": [
    {
     "name": "stdout",
     "output_type": "stream",
     "text": [
      "Tabla de resultados de la encuesta:\n",
      "           Un poco mejor  Igual  No tan bueno  Total\n",
      "Periodo                                             \n",
      "1980-Enc              72    144            84    300\n",
      "1980-May              63    135           102    300\n",
      "1980-Sept             47    100            53    200\n",
      "1981-Enc              40    105            55    200\n"
     ]
    }
   ],
   "source": [
    "import pandas as pd\n",
    "\n",
    "# Crear la tabla de datos\n",
    "data = {\n",
    "    'Periodo': ['1980-Enc', '1980-May', '1980-Sept', '1981-Enc'],\n",
    "    'Un poco mejor': [72, 63, 47, 40],\n",
    "    'Igual': [144, 135, 100, 105],\n",
    "    'No tan bueno': [84, 102, 53, 55],\n",
    "    'Total': [300, 300, 200, 200]\n",
    "}\n",
    "\n",
    "# Crear el DataFrame\n",
    "df = pd.DataFrame(data).set_index('Periodo')\n",
    "\n",
    "# Mostrar la tabla\n",
    "print(\"Tabla de resultados de la encuesta:\")\n",
    "print(df)"
   ]
  },
  {
   "cell_type": "code",
   "execution_count": 7,
   "id": "ad9cc15c",
   "metadata": {},
   "outputs": [
    {
     "name": "stdout",
     "output_type": "stream",
     "text": [
      "\n",
      "Resultados de la prueba de chi-cuadrado para 10.91:\n",
      "Estadístico Chi-cuadrado: 9.4081\n",
      "Valor p: 0.1519\n",
      "Grados de libertad: 6\n",
      "Valores esperados: \n",
      "[[ 71.42254812 155.71402383 123.86342805]\n",
      " [ 64.7076077  141.07424381 112.21814849]\n",
      " [ 45.17323556  98.48579285  78.34097159]\n",
      " [ 40.69660862  88.72593951  70.57745188]]\n",
      "\n",
      "No se puede rechazar la hipótesis nula. No hay una diferencia significativa entre las proporciones de familias en los diferentes niveles de vida.\n"
     ]
    }
   ],
   "source": [
    "import numpy as np\n",
    "import pandas as pd\n",
    "from scipy.stats import chi2_contingency\n",
    "\n",
    "# Datos\n",
    "data_10_91 = np.array([[72, 144, 135],  \n",
    "                       [63, 135, 120],  \n",
    "                       [47, 100, 75],   \n",
    "                       [40, 105, 55]])  \n",
    "\n",
    "# Crear DataFrame\n",
    "df_10_91 = pd.DataFrame(data_10_91, columns=['Mejor', 'Igual', 'No tan bueno'], \n",
    "                        index=['1980 Ene.', '1980 May.', '1980 Sept.', '1981 Ene.'])\n",
    "\n",
    "# Prueba de chi-cuadrado\n",
    "chi2_91, p_91, dof_91, expected_91 = chi2_contingency(data_10_91)\n",
    "\n",
    "# Resultados\n",
    "alpha = 0.05\n",
    "print(\"\\nResultados de la prueba de chi-cuadrado para 10.91:\")\n",
    "print(f\"Estadístico Chi-cuadrado: {chi2_91:.4f}\")\n",
    "print(f\"Valor p: {p_91:.4f}\")\n",
    "print(f\"Grados de libertad: {dof_91}\")\n",
    "print(f\"Valores esperados: \\n{expected_91}\")\n",
    "\n",
    "# Conclusión\n",
    "if p_91 < alpha:\n",
    "    print(\"\\nSe rechaza la hipótesis nula. Hay una diferencia significativa entre las proporciones de familias en los diferentes niveles de vida.\")\n",
    "else:\n",
    "    print(\"\\nNo se puede rechazar la hipótesis nula. No hay una diferencia significativa entre las proporciones de familias en los diferentes niveles de vida.\")"
   ]
  },
  {
   "cell_type": "markdown",
   "id": "bf13e12b",
   "metadata": {},
   "source": [
    " ### Ejemplo 4\n",
    " ### [Anterior](#Ejemplo.3) | [Menú](#Menu) | [siguiente](#Ejemplo.5)"
   ]
  },
  {
   "cell_type": "markdown",
   "id": "784b0a80",
   "metadata": {},
   "source": [
    "Se lleva a cabo una encuesta en Indiana, Kentucky y Ohio para determinar la postura de los votantes respecto al transporte escolar. Un grupo de 200 votantes de cada uno de estos estados."
   ]
  },
  {
   "cell_type": "code",
   "execution_count": 9,
   "id": "92d03c48",
   "metadata": {},
   "outputs": [
    {
     "name": "stdout",
     "output_type": "stream",
     "text": [
      "Tabla de contingencia:\n",
      "Estado    Indiana  Kentucky  Ohio\n",
      "Apoya          82       107    93\n",
      "No apoya       97        66    74\n",
      "Indeciso       21        27    33\n",
      "\n",
      "Resultados de la prueba de chi-cuadrado:\n",
      "Chi-cuadrado: 12.564054223898015\n",
      "P-valor: 0.013614527755573072\n",
      "Grados de libertad: 4\n",
      "Frecuencias esperadas:\n",
      "[[94. 94. 94.]\n",
      " [79. 79. 79.]\n",
      " [27. 27. 27.]]\n",
      "\n",
      "Se rechaza la hipótesis nula: hay una relación significativa entre los estados y la postura del votante.\n"
     ]
    }
   ],
   "source": [
    "import pandas as pd\n",
    "import scipy.stats as stats\n",
    "\n",
    "# Crear un DataFrame con los datos\n",
    "data = {\n",
    "    'Estado': ['Indiana', 'Kentucky', 'Ohio'],\n",
    "    'Apoya': [82, 107, 93],\n",
    "    'No apoya': [97, 66, 74],\n",
    "    'Indeciso': [21, 27, 33]\n",
    "}\n",
    "df = pd.DataFrame(data)\n",
    "# Convertir los datos en una tabla de contingencia\n",
    "contingencia = df[['Apoya', 'No apoya', 'Indeciso']].T\n",
    "contingencia.columns = df['Estado']\n",
    "print(\"Tabla de contingencia:\")\n",
    "print(contingencia)\n",
    "# Realizar la prueba de chi-cuadrado\n",
    "chi2, p, dof, expected = stats.chi2_contingency(contingencia)\n",
    "# Mostrar los resultados\n",
    "print(\"\\nResultados de la prueba de chi-cuadrado:\")\n",
    "print(f\"Chi-cuadrado: {chi2}\")\n",
    "print(f\"P-valor: {p}\")\n",
    "print(f\"Grados de libertad: {dof}\")\n",
    "print(\"Frecuencias esperadas:\")\n",
    "print(expected)\n",
    "# Interpretar el p-valor\n",
    "alpha = 0.05\n",
    "if p < alpha:\n",
    "    print(\"\\nSe rechaza la hipótesis nula: hay una relación significativa entre los estados y la postura del votante.\")\n",
    "else:\n",
    "    print(\"\\nNo se rechaza la hipótesis nula: no hay una relación significativa entre los estados y la postura del votante.\")"
   ]
  },
  {
   "cell_type": "markdown",
   "id": "260dad42",
   "metadata": {},
   "source": [
    " ### Ejemplo 5\n",
    " ### [Anterior](#Ejemplo.4) | [Menú](#Menu) | [siguiente](#Ejemplo.6)"
   ]
  },
  {
   "cell_type": "markdown",
   "id": "fcb23b80",
   "metadata": {},
   "source": [
    "Se lleva a cabo una investigación en dos ciudades de Virginia para determinar la opinión de los votantes respecto a dos candidatos a la gubernatura en una elección próxima.\n",
    "\n",
    "A un nivel de significancia de 0.05 pruebe la hipótesis nula de que las proporciones de votantes que están a favor del candidato A, a favor del candidato B o que están indecisos son las mismas para cada ciudad."
   ]
  },
  {
   "cell_type": "code",
   "execution_count": 10,
   "id": "72fdc53d",
   "metadata": {},
   "outputs": [
    {
     "name": "stdout",
     "output_type": "stream",
     "text": [
      "Tabla de contingencia:\n",
      "Ciudad        Richmond  Norfolk\n",
      "A favor de A       204      229\n",
      "A favor de B       211      198\n",
      "Indeciso            85       73\n",
      "\n",
      "Resultados de la prueba de chi-cuadrado:\n",
      "Chi-cuadrado: 2.7680133529054336\n",
      "P-valor: 0.2505725758535793\n",
      "Grados de libertad: 2\n",
      "Frecuencias esperadas:\n",
      "[[216.5 216.5]\n",
      " [204.5 204.5]\n",
      " [ 79.   79. ]]\n",
      "\n",
      "No se rechaza la hipótesis nula: no hay una relación significativa entre la ciudad y la opinión del votante.\n"
     ]
    }
   ],
   "source": [
    "import pandas as pd\n",
    "import scipy.stats as stats\n",
    "\n",
    "# Crear un DataFrame con los datos\n",
    "data = {\n",
    "    'Ciudad': ['Richmond', 'Norfolk'],\n",
    "    'A favor de A': [204, 229],\n",
    "    'A favor de B': [211, 198],\n",
    "    'Indeciso': [85, 73]  # Suponiendo que los indecisos son los restantes\n",
    "}\n",
    "df = pd.DataFrame(data)\n",
    "# Convertir los datos en una tabla de contingencia\n",
    "contingencia = df[['A favor de A', 'A favor de B', 'Indeciso']].T\n",
    "contingencia.columns = df['Ciudad']\n",
    "print(\"Tabla de contingencia:\")\n",
    "print(contingencia)\n",
    "# Realizar la prueba de chi-cuadrado\n",
    "chi2, p, dof, expected = stats.chi2_contingency(contingencia)\n",
    "# Mostrar los resultados\n",
    "print(\"\\nResultados de la prueba de chi-cuadrado:\")\n",
    "print(f\"Chi-cuadrado: {chi2}\")\n",
    "print(f\"P-valor: {p}\")\n",
    "print(f\"Grados de libertad: {dof}\")\n",
    "print(\"Frecuencias esperadas:\")\n",
    "print(expected)\n",
    "# Interpretar el p-valor\n",
    "alpha = 0.05\n",
    "if p < alpha:\n",
    "    print(\"\\nSe rechaza la hipótesis nula: hay una relación significativa entre la ciudad y la opinión del votante.\")\n",
    "else:\n",
    "    print(\"\\nNo se rechaza la hipótesis nula: no hay una relación significativa entre la ciudad y la opinión del votante.\")"
   ]
  },
  {
   "cell_type": "markdown",
   "id": "69cbf7bb",
   "metadata": {},
   "source": [
    " ### Ejemplo 6\n",
    " ### [Anterior](#Ejemplo.5) | [Menú](#Menu) | [siguiente](#Ejemplo.7)"
   ]
  },
  {
   "cell_type": "markdown",
   "id": "e5086bb5",
   "metadata": {},
   "source": [
    "En un estudio para estimar la proporción de esposas que de manera regular ven telenovelas se encuentra que 52 de 200 esposas en Denver 31 de 150 en Phoenix y 37 de 150 en Rochester ven al menos una telenovela. Utilice un nivel de significancia de 0.05 para probar la hipótesis de que no hay diferencia entre las proporciones verdaderas de esposas que ven telenovelas en esas tres ciudades funcionario actual para la próxima elección es de 0.58.\n",
    "\n",
    "El filete ribeye promedio en el restaurante Longhorn Steak pesa al menos 340 gramos."
   ]
  },
  {
   "cell_type": "code",
   "execution_count": 11,
   "id": "d75bfc0d",
   "metadata": {},
   "outputs": [
    {
     "name": "stdout",
     "output_type": "stream",
     "text": [
      "Tabla de contingencia:\n",
      "Ciudad              Denver  Phoenix  Rochester\n",
      "Ven Telenovelas         52       31         37\n",
      "No Ven Telenovelas     148      119        113\n",
      "\n",
      "Resultados de la prueba de chi-cuadrado:\n",
      "Chi-cuadrado: 1.3888888888888886\n",
      "P-valor: 0.4993517885992763\n",
      "Grados de libertad: 2\n",
      "Frecuencias esperadas:\n",
      "[[ 48.  36.  36.]\n",
      " [152. 114. 114.]]\n",
      "\n",
      "No se rechaza la hipótesis nula: no hay diferencia significativa entre las proporciones.\n"
     ]
    }
   ],
   "source": [
    "import pandas as pd\n",
    "import scipy.stats as stats\n",
    "\n",
    "# Datos\n",
    "ciudades = ['Denver', 'Phoenix', 'Rochester']\n",
    "total_esposas = [200, 150, 150]\n",
    "ven_telenovelas = [52, 31, 37]\n",
    "\n",
    "# Crear un DataFrame\n",
    "df = pd.DataFrame({\n",
    "    'Ciudad': ciudades,\n",
    "    'Total': total_esposas,\n",
    "    'Ven Telenovelas': ven_telenovelas,\n",
    "    'No Ven Telenovelas': [total - ven for total, ven in zip(total_esposas, ven_telenovelas)]})\n",
    "\n",
    "# Convertir los datos en una tabla de contingencia\n",
    "contingencia = df[['Ven Telenovelas', 'No Ven Telenovelas']].T\n",
    "contingencia.columns = df['Ciudad']\n",
    "print(\"Tabla de contingencia:\")\n",
    "print(contingencia)\n",
    "\n",
    "# Realizar la prueba de chi-cuadrado\n",
    "chi2, p, dof, expected = stats.chi2_contingency(contingencia)\n",
    "\n",
    "# Mostrar los resultados\n",
    "print(\"\\nResultados de la prueba de chi-cuadrado:\")\n",
    "print(f\"Chi-cuadrado: {chi2}\")\n",
    "print(f\"P-valor: {p}\")\n",
    "print(f\"Grados de libertad: {dof}\")\n",
    "print(\"Frecuencias esperadas:\")\n",
    "print(expected)\n",
    "\n",
    "# Interpretar el p-valor\n",
    "alpha = 0.05\n",
    "if p < alpha:\n",
    "    print(\"\\nSe rechaza la hipótesis nula: hay una diferencia significativa entre las proporciones.\")\n",
    "else:\n",
    "    print(\"\\nNo se rechaza la hipótesis nula: no hay diferencia significativa entre las proporciones.\")"
   ]
  },
  {
   "cell_type": "markdown",
   "id": "850f914f",
   "metadata": {},
   "source": [
    " ### Ejemplo 7\n",
    " ### [Anterior](#Ejemplo.6) | [Menú](#Menu) | [siguiente](#Ejemplo.8)"
   ]
  },
  {
   "cell_type": "markdown",
   "id": "9dd46b10",
   "metadata": {},
   "source": [
    "Una muestra aleatoria de 200 hombres casados, todos jubilados, se clasificó de acuerdo con la educación y el número de hijos:"
   ]
  },
  {
   "cell_type": "code",
   "execution_count": 12,
   "id": "51252ea8",
   "metadata": {},
   "outputs": [
    {
     "name": "stdout",
     "output_type": "stream",
     "text": [
      "10.88: Educación vs Número de hijos (n=200)\n",
      "             0-1 hijos  2-3 hijos  Más de 3\n",
      "Primaria            14         37        32\n",
      "Secundaria          19         42        17\n",
      "Universidad         12         17        10\n"
     ]
    }
   ],
   "source": [
    "import pandas as pd\n",
    "\n",
    "data = [\n",
    "    [14, 37, 32], \n",
    "    [19, 42, 17], \n",
    "    [12, 17, 10] \n",
    "]\n",
    "\n",
    "df = pd.DataFrame(data, \n",
    "                  index=[\"Primaria\", \"Secundaria\", \"Universidad\"],\n",
    "                  columns=[\"0-1 hijos\", \"2-3 hijos\", \"Más de 3\"])\n",
    "\n",
    "print(\"10.88: Educación vs Número de hijos (n=200)\")\n",
    "print(df)"
   ]
  },
  {
   "cell_type": "code",
   "execution_count": 14,
   "id": "72c0e19e",
   "metadata": {},
   "outputs": [
    {
     "name": "stdout",
     "output_type": "stream",
     "text": [
      "Chi² = 7.46, p = 0.1133, gl = 4\n",
      "No rechazar H₀\n"
     ]
    }
   ],
   "source": [
    "import numpy as np\n",
    "from scipy.stats import chi2_contingency\n",
    "\n",
    "observed = np.array([[14,37,32], [19,42,17], [12,17,10]])\n",
    "chi2_stat, p, dof, expected = chi2_contingency(observed)\n",
    "print(f\"Chi² = {chi2_stat:.2f}, p = {p:.4f}, gl = {dof}\")\n",
    "print(\"Rechazar H₀\" if p < 0.05 else \"No rechazar H₀\")"
   ]
  },
  {
   "cell_type": "markdown",
   "id": "5cfa1938",
   "metadata": {},
   "source": [
    " ### Ejemplo 8\n",
    " ### [Anterior](#Ejemplo.7) | [Menú](#Menu) | [siguiente](#Ejemplo.9)"
   ]
  },
  {
   "cell_type": "markdown",
   "id": "c16e648f",
   "metadata": {},
   "source": [
    "La enfermeria de una universidad realizó ur experimento para determinar el grado de alivio que brindan tres jarabes para la tos. Cada jarabe se probó en 50 estudiantes y se registraron los siguientes datos:"
   ]
  },
  {
   "cell_type": "code",
   "execution_count": 15,
   "id": "4bf950b3",
   "metadata": {},
   "outputs": [
    {
     "name": "stdout",
     "output_type": "stream",
     "text": [
      "10.92: Efectividad de jarabes para la tos (n=150)\n",
      "                 MyQuil  Robitussin  Triaminic\n",
      "Sin alivio           11          13          9\n",
      "Cierto alivio        32          28         27\n",
      "Alivio completo       7           9         14\n"
     ]
    }
   ],
   "source": [
    "import pandas as pd\n",
    "\n",
    "data = [\n",
    "    [11, 13, 9],\n",
    "    [32, 28, 27],\n",
    "    [7, 9, 14]\n",
    "]\n",
    "\n",
    "df = pd.DataFrame(\n",
    "    data,\n",
    "    index=[\"Sin alivio\", \"Cierto alivio\", \"Alivio completo\"],\n",
    "    columns=[\"MyQuil\", \"Robitussin\", \"Triaminic\"]\n",
    ")\n",
    "\n",
    "print(\"10.92: Efectividad de jarabes para la tos (n=150)\")\n",
    "print(df)"
   ]
  },
  {
   "cell_type": "code",
   "execution_count": 16,
   "id": "f0f44286",
   "metadata": {},
   "outputs": [
    {
     "name": "stdout",
     "output_type": "stream",
     "text": [
      "Chi² = 3.81, p = 0.4323, gl = 4\n",
      "No rechazar H₀\n"
     ]
    }
   ],
   "source": [
    "import numpy as np\n",
    "from scipy.stats import chi2_contingency\n",
    "\n",
    "observed = np.array([[11,13,9], [32,28,27], [7,9,14]])\n",
    "chi2_stat, p, dof, expected = chi2_contingency(observed)\n",
    "print(f\"Chi² = {chi2_stat:.2f}, p = {p:.4f}, gl = {dof}\")\n",
    "print(\"Rechazar H₀\" if p < 0.05 else \"No rechazar H₀\")"
   ]
  },
  {
   "cell_type": "markdown",
   "id": "cd9e19c4",
   "metadata": {},
   "source": [
    " ### Ejemplo 9\n",
    " ### [Anterior](#EJEMPLO.8) | [Menú](#Menu) | [siguiente](#EJEMPLO.9)"
   ]
  },
  {
   "cell_type": "markdown",
   "id": "88f60c2d",
   "metadata": {},
   "source": [
    "10.93 Para determinar las posturas actuales acerca de rezar en escuelas públicas se llevó a cabo una investigación en 4 condados de Virginia, En la siguiente tabla se presentan las opiniones de 200 padres del condado de 'Craig, de 150 padres del condado de Giles, de 100 padres del condado de Franklin y de 100 padres de condado de Montgomery:"
   ]
  },
  {
   "cell_type": "code",
   "execution_count": 17,
   "id": "605c3a92",
   "metadata": {},
   "outputs": [
    {
     "name": "stdout",
     "output_type": "stream",
     "text": [
      "10.93: Opiniones sobre rezar en escuelas (n=550)\n",
      "             Craig  Giles  Franklin  Montgomery\n",
      "A favor         65     66        40          34\n",
      "En contra       42     30        33          42\n",
      "Sin opinión     93     54        27          24\n"
     ]
    }
   ],
   "source": [
    "import pandas as pd\n",
    "\n",
    "data = [\n",
    "    [65, 66, 40, 34],\n",
    "    [42, 30, 33, 42],\n",
    "    [93, 54, 27, 24]\n",
    "]\n",
    "\n",
    "df = pd.DataFrame(\n",
    "    data,\n",
    "    index=[\"A favor\", \"En contra\", \"Sin opinión\"],\n",
    "    columns=[\"Craig\", \"Giles\", \"Franklin\", \"Montgomery\"]\n",
    ")\n",
    "\n",
    "print(\"10.93: Opiniones sobre rezar en escuelas (n=550)\")\n",
    "print(df)"
   ]
  },
  {
   "cell_type": "code",
   "execution_count": 18,
   "id": "3a2a4a28",
   "metadata": {},
   "outputs": [
    {
     "name": "stdout",
     "output_type": "stream",
     "text": [
      "Chi² = 31.10, p = 0.0000, gl = 6\n",
      "Rechazar H₀\n"
     ]
    }
   ],
   "source": [
    "import numpy as np\n",
    "from scipy.stats import chi2_contingency\n",
    "\n",
    "observed = np.array([[65,66,40,34], [42,30,33,42], [93,54,27,24]])\n",
    "chi2_stat, p, dof, expected = chi2_contingency(observed)\n",
    "print(f\"Chi² = {chi2_stat:.2f}, p = {p:.4f}, gl = {dof}\")\n",
    "print(\"Rechazar H₀\" if p < 0.05 else \"No rechazar H₀\")"
   ]
  },
  {
   "cell_type": "markdown",
   "id": "d29ab12b",
   "metadata": {},
   "source": [
    "### REFERENCIAS"
   ]
  },
  {
   "cell_type": "markdown",
   "id": "57dd3f67",
   "metadata": {},
   "source": [
    "PROBABILIDAD Y ESTADISTICA PARA INGENIERIA Y CIENCIAS(Walpole-Myers-myers)\n",
    "- https://vereniciafunez94hotmail.wordpress.com/wp-content/uploads/2014/08/8va-probabilidad-y-estadistica-para-ingenier-walpole_8.pdf \n",
    "\n",
    "\n",
    "pag.\n",
    " 382-386"
   ]
  }
 ],
 "metadata": {
  "kernelspec": {
   "display_name": "Python 3",
   "language": "python",
   "name": "python3"
  },
  "language_info": {
   "codemirror_mode": {
    "name": "ipython",
    "version": 3
   },
   "file_extension": ".py",
   "mimetype": "text/x-python",
   "name": "python",
   "nbconvert_exporter": "python",
   "pygments_lexer": "ipython3",
   "version": "3.12.6"
  }
 },
 "nbformat": 4,
 "nbformat_minor": 5
}
