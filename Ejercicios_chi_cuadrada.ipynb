{
 "cells": [
  {
   "cell_type": "markdown",
   "id": "2f9b884c",
   "metadata": {},
   "source": [
    "# [Menu](#menú)\n",
    "\n",
    "* [Ejercicio 1](Ejercicio.1)\n",
    "* [Ejercicio 2](Ejercicio.2)\n",
    "* [Ejercicio 3](Ejercicio.3)"
   ]
  },
  {
   "cell_type": "markdown",
   "id": "4a3d836e",
   "metadata": {},
   "source": [
    " ### Ejercicio.1\n",
    " ### [Menú](#Menu) | [siguiente](#Ejercicio.2)"
   ]
  },
  {
   "cell_type": "markdown",
   "id": "57836869",
   "metadata": {},
   "source": [
    "Una muestra aleatoria de 200 hombres casados, todos jubilados, se clasificó de acuerdo con la educación y el número de hijos:"
   ]
  },
  {
   "cell_type": "code",
   "execution_count": 12,
   "id": "c676ed78",
   "metadata": {},
   "outputs": [
    {
     "name": "stdout",
     "output_type": "stream",
     "text": [
      "10.88: Educación vs Número de hijos (n=200)\n",
      "             0-1 hijos  2-3 hijos  Más de 3\n",
      "Primaria            14         37        32\n",
      "Secundaria          19         42        17\n",
      "Universidad         12         17        10\n"
     ]
    }
   ],
   "source": [
    "import pandas as pd\n",
    "\n",
    "data = [\n",
    "    [14, 37, 32], \n",
    "    [19, 42, 17], \n",
    "    [12, 17, 10] \n",
    "]\n",
    "\n",
    "df = pd.DataFrame(data, \n",
    "                  index=[\"Primaria\", \"Secundaria\", \"Universidad\"],\n",
    "                  columns=[\"0-1 hijos\", \"2-3 hijos\", \"Más de 3\"])\n",
    "\n",
    "print(\"10.88: Educación vs Número de hijos (n=200)\")\n",
    "print(df)"
   ]
  },
  {
   "cell_type": "code",
   "execution_count": 9,
   "id": "164547e7",
   "metadata": {},
   "outputs": [
    {
     "name": "stdout",
     "output_type": "stream",
     "text": [
      "Chi² = 7.46, p = 0.1133, gl = 4\n",
      "No rechazar H₀\n"
     ]
    }
   ],
   "source": [
    "import numpy as np\n",
    "from scipy.stats import chi2_contingency\n",
    "\n",
    "observed = np.array([[14,37,32], [19,42,17], [12,17,10]])\n",
    "chi2_stat, p, dof, expected = chi2_contingency(observed)\n",
    "print(f\"Chi² = {chi2_stat:.2f}, p = {p:.4f}, gl = {dof}\")\n",
    "print(\"Rechazar H₀\" if p < 0.05 else \"No rechazar H₀\")"
   ]
  },
  {
   "cell_type": "markdown",
   "id": "7ae17a39",
   "metadata": {},
   "source": [
    " ### Ejercicio.2\n",
    " ### [Anterior](#Ejercicio.1) | [Menú](#Menu) | [siguiente](#Ejercicio.3)"
   ]
  },
  {
   "cell_type": "markdown",
   "id": "ad48fa74",
   "metadata": {},
   "source": [
    "**10.92** La enfermeria de una universidad realizó ur experimento para determinar el grado de alivio que brindan tres jarabes para la tos. Cada jarabe se probó en 50 estudiantes y se registraron los siguientes datos:"
   ]
  },
  {
   "cell_type": "code",
   "execution_count": 5,
   "id": "4e4b1a32",
   "metadata": {},
   "outputs": [
    {
     "name": "stdout",
     "output_type": "stream",
     "text": [
      "10.92: Efectividad de jarabes para la tos (n=150)\n",
      "                 MyQuil  Robitussin  Triaminic\n",
      "Sin alivio           11          13          9\n",
      "Cierto alivio        32          28         27\n",
      "Alivio completo       7           9         14\n"
     ]
    }
   ],
   "source": [
    "import pandas as pd\n",
    "\n",
    "data = [\n",
    "    [11, 13, 9],\n",
    "    [32, 28, 27],\n",
    "    [7, 9, 14]\n",
    "]\n",
    "\n",
    "df = pd.DataFrame(\n",
    "    data,\n",
    "    index=[\"Sin alivio\", \"Cierto alivio\", \"Alivio completo\"],\n",
    "    columns=[\"MyQuil\", \"Robitussin\", \"Triaminic\"]\n",
    ")\n",
    "\n",
    "print(\"10.92: Efectividad de jarabes para la tos (n=150)\")\n",
    "print(df)"
   ]
  },
  {
   "cell_type": "code",
   "execution_count": 10,
   "id": "acbb6e40",
   "metadata": {},
   "outputs": [
    {
     "name": "stdout",
     "output_type": "stream",
     "text": [
      "Chi² = 3.81, p = 0.4323, gl = 4\n",
      "No rechazar H₀\n"
     ]
    }
   ],
   "source": [
    "import numpy as np\n",
    "from scipy.stats import chi2_contingency\n",
    "\n",
    "observed = np.array([[11,13,9], [32,28,27], [7,9,14]])\n",
    "chi2_stat, p, dof, expected = chi2_contingency(observed)\n",
    "print(f\"Chi² = {chi2_stat:.2f}, p = {p:.4f}, gl = {dof}\")\n",
    "print(\"Rechazar H₀\" if p < 0.05 else \"No rechazar H₀\")"
   ]
  },
  {
   "cell_type": "markdown",
   "id": "0eb30073",
   "metadata": {},
   "source": [
    " ### Ejercicio.3\n",
    " ### [Anterior](#Ejercicio.2) | [Menú](#Menu) | [siguiente](#Ejercicio.3)"
   ]
  },
  {
   "cell_type": "markdown",
   "id": "3e22dc9c",
   "metadata": {},
   "source": [
    "**10.93** Para determinar las posturas actuales acerca de rezar en escuelas públicas se llevó a cabo una investigación en 4 condados de Virginia, En la siguiente tabla se presentan las opiniones de 200 padres del condado de 'Craig, de 150 padres del condado de Giles, de 100 padres del condado de Franklin y de 100 padres de condado de Montgomery:"
   ]
  },
  {
   "cell_type": "code",
   "execution_count": 6,
   "id": "e04ea54f",
   "metadata": {},
   "outputs": [
    {
     "name": "stdout",
     "output_type": "stream",
     "text": [
      "10.93: Opiniones sobre rezar en escuelas (n=550)\n",
      "             Craig  Giles  Franklin  Montgomery\n",
      "A favor         65     66        40          34\n",
      "En contra       42     30        33          42\n",
      "Sin opinión     93     54        27          24\n"
     ]
    }
   ],
   "source": [
    "import pandas as pd\n",
    "\n",
    "data = [\n",
    "    [65, 66, 40, 34],\n",
    "    [42, 30, 33, 42],\n",
    "    [93, 54, 27, 24]\n",
    "]\n",
    "\n",
    "df = pd.DataFrame(\n",
    "    data,\n",
    "    index=[\"A favor\", \"En contra\", \"Sin opinión\"],\n",
    "    columns=[\"Craig\", \"Giles\", \"Franklin\", \"Montgomery\"]\n",
    ")\n",
    "\n",
    "print(\"10.93: Opiniones sobre rezar en escuelas (n=550)\")\n",
    "print(df)"
   ]
  },
  {
   "cell_type": "code",
   "execution_count": 11,
   "id": "e7e5a1b1",
   "metadata": {},
   "outputs": [
    {
     "name": "stdout",
     "output_type": "stream",
     "text": [
      "Chi² = 31.10, p = 0.0000, gl = 6\n",
      "Rechazar H₀\n"
     ]
    }
   ],
   "source": [
    "import numpy as np\n",
    "from scipy.stats import chi2_contingency\n",
    "\n",
    "observed = np.array([[65,66,40,34], [42,30,33,42], [93,54,27,24]])\n",
    "chi2_stat, p, dof, expected = chi2_contingency(observed)\n",
    "print(f\"Chi² = {chi2_stat:.2f}, p = {p:.4f}, gl = {dof}\")\n",
    "print(\"Rechazar H₀\" if p < 0.05 else \"No rechazar H₀\")"
   ]
  }
 ],
 "metadata": {
  "kernelspec": {
   "display_name": "Python 3",
   "language": "python",
   "name": "python3"
  },
  "language_info": {
   "codemirror_mode": {
    "name": "ipython",
    "version": 3
   },
   "file_extension": ".py",
   "mimetype": "text/x-python",
   "name": "python",
   "nbconvert_exporter": "python",
   "pygments_lexer": "ipython3",
   "version": "3.12.6"
  }
 },
 "nbformat": 4,
 "nbformat_minor": 5
}
